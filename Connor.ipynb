{
 "cells": [
  {
   "cell_type": "code",
   "execution_count": 2,
   "metadata": {},
   "outputs": [
    {
     "name": "stdout",
     "output_type": "stream",
     "text": [
      "enter the year\n"
     ]
    },
    {
     "ename": "ValueError",
     "evalue": "invalid literal for int() with base 10: ''",
     "output_type": "error",
     "traceback": [
      "\u001b[1;31m---------------------------------------------------------------------------\u001b[0m",
      "\u001b[1;31mValueError\u001b[0m                                Traceback (most recent call last)",
      "\u001b[1;32m<ipython-input-2-8dda1b8d79e3>\u001b[0m in \u001b[0;36m<module>\u001b[1;34m\u001b[0m\n\u001b[1;32m----> 1\u001b[1;33m \u001b[0myear\u001b[0m\u001b[1;33m=\u001b[0m\u001b[0mint\u001b[0m\u001b[1;33m(\u001b[0m\u001b[0minput\u001b[0m\u001b[1;33m(\u001b[0m\u001b[1;34m\"enter the year\"\u001b[0m\u001b[1;33m)\u001b[0m\u001b[1;33m)\u001b[0m\u001b[1;33m\u001b[0m\u001b[1;33m\u001b[0m\u001b[0m\n\u001b[0m\u001b[0;32m      2\u001b[0m \u001b[1;32mif\u001b[0m \u001b[0myear\u001b[0m\u001b[1;33m%\u001b[0m\u001b[1;36m4\u001b[0m\u001b[1;33m==\u001b[0m\u001b[1;36m0\u001b[0m\u001b[1;33m:\u001b[0m\u001b[1;33m\u001b[0m\u001b[1;33m\u001b[0m\u001b[0m\n\u001b[0;32m      3\u001b[0m     \u001b[0mprint\u001b[0m\u001b[1;33m(\u001b[0m\u001b[1;34m\"it's a leap year\"\u001b[0m\u001b[1;33m)\u001b[0m\u001b[1;33m\u001b[0m\u001b[1;33m\u001b[0m\u001b[0m\n\u001b[0;32m      4\u001b[0m \u001b[1;33m\u001b[0m\u001b[0m\n\u001b[0;32m      5\u001b[0m \u001b[1;32melse\u001b[0m\u001b[1;33m:\u001b[0m\u001b[1;33m\u001b[0m\u001b[1;33m\u001b[0m\u001b[0m\n",
      "\u001b[1;31mValueError\u001b[0m: invalid literal for int() with base 10: ''"
     ]
    }
   ],
   "source": [
    "year=int(input(\"enter the year\"))\n",
    "if year%4==0:\n",
    "    print(\"it's a leap year\")\n",
    "\n",
    "else:\n",
    "    print(\"It's not a leap year\")"
   ]
  },
  {
   "cell_type": "code",
   "execution_count": null,
   "metadata": {},
   "outputs": [],
   "source": [
    "a=0\n",
    "n=int(input(\"enter the limit \"))\n",
    "while a<n:\n",
    "    print (\"gitam\")\n",
    "    a=a+1\n"
   ]
  },
  {
   "cell_type": "code",
   "execution_count": null,
   "metadata": {},
   "outputs": [],
   "source": [
    "a=0\n",
    "b=1\n",
    "n=int(input(\"enter the limit: \"))\n",
    "while a<n:\n",
    "    print (b)\n",
    "    a=a+1\n",
    "    b=b+1\n"
   ]
  },
  {
   "cell_type": "code",
   "execution_count": null,
   "metadata": {},
   "outputs": [],
   "source": [
    "sum=0\n",
    "a=0\n",
    "b=1\n",
    "n=int(input(\"enter the limit: \"))\n",
    "while a<n:\n",
    "    if b%2==0:\n",
    "        sum=sum+b\n",
    "    a=a+1\n",
    "    b=b+1\n",
    "print(sum)\n"
   ]
  },
  {
   "cell_type": "code",
   "execution_count": null,
   "metadata": {
    "scrolled": true
   },
   "outputs": [],
   "source": [
    "n=int(input(\"enter a number: \"))\n",
    "while n!=0:\n",
    "    b=n%10\n",
    "    n=n//10\n",
    "    print(b)"
   ]
  },
  {
   "cell_type": "code",
   "execution_count": null,
   "metadata": {},
   "outputs": [],
   "source": [
    "a=0\n",
    "n=int(input(\"enter a number: \"))\n",
    "c=n\n",
    "while n!=0:\n",
    "    b=n%10\n",
    "    n=n//10\n",
    "    a=(a*10)+b\n",
    "print(a)\n",
    "if c==a:\n",
    "    print(\"it is palindrome\")"
   ]
  },
  {
   "cell_type": "code",
   "execution_count": null,
   "metadata": {},
   "outputs": [],
   "source": [
    "def evendigits(n):\n",
    "    sum=0\n",
    "    while n!=0:\n",
    "        b=n%10\n",
    "        n=n//10\n",
    "        if b%2==0:\n",
    "            sum=sum+b\n",
    "    print(sum)\n",
    "    return\n",
    "x=int(input(\"enter a number\"))\n",
    "evendigits(x)"
   ]
  },
  {
   "cell_type": "code",
   "execution_count": null,
   "metadata": {},
   "outputs": [],
   "source": [
    "def evendigits(n):\n",
    "    large=0\n",
    "    while n!=0:\n",
    "        b=n%10\n",
    "        n=n//10\n",
    "        if b>large:\n",
    "            large=b\n",
    "    print(large)\n",
    "    return\n",
    "x=int(input(\"enter a number\"))\n",
    "evendigits(x)"
   ]
  },
  {
   "cell_type": "code",
   "execution_count": null,
   "metadata": {},
   "outputs": [],
   "source": [
    "a=0\n",
    "n=int(input(\"enter a number: \"))\n",
    "c=n\n",
    "while n!=0:\n",
    "    b=n%10\n",
    "    n=n//10\n",
    "    a=(a*10)+b\n",
    "print(a)"
   ]
  },
  {
   "cell_type": "code",
   "execution_count": null,
   "metadata": {},
   "outputs": [],
   "source": [
    "def naturalnumbers(n):\n",
    "    for x in range(1, n+1):\n",
    "        print(x,end=\" \")\n",
    "    return\n",
    "y=int(input(\"enter the limit\"))\n",
    "naturalnumbers(y)\n"
   ]
  },
  {
   "cell_type": "code",
   "execution_count": null,
   "metadata": {},
   "outputs": [],
   "source": [
    "def printnumbers(a,b):\n",
    "    for x in range(a,b+1):\n",
    "        print(x)\n",
    "    return\n",
    "printnumbers(11,20)"
   ]
  },
  {
   "cell_type": "code",
   "execution_count": null,
   "metadata": {},
   "outputs": [],
   "source": [
    "def printnumbers(a,b):\n",
    "    for x in range(a,b+1, 2):\n",
    "        print(x)\n",
    "    return\n",
    "printnumbers(11,20)"
   ]
  },
  {
   "cell_type": "code",
   "execution_count": null,
   "metadata": {},
   "outputs": [],
   "source": [
    "def printnumbers(a,b):\n",
    "    for x in range(a,b-1, -1):\n",
    "        print(x)\n",
    "    return\n",
    "printnumbers(11,20)"
   ]
  },
  {
   "cell_type": "code",
   "execution_count": null,
   "metadata": {},
   "outputs": [],
   "source": [
    "#problem name\n",
    "#algorith\n",
    "#sampole input adn output\n",
    "#flowchart\n",
    "#python code\n"
   ]
  },
  {
   "cell_type": "code",
   "execution_count": null,
   "metadata": {},
   "outputs": [],
   "source": [
    "def factorlist(n):\n",
    "    for i in range(1,n):\n",
    "        if n%i==0:\n",
    "            print(i)\n",
    "a=int(input(\"enter a value \"))\n",
    "factorlist(a)"
   ]
  },
  {
   "cell_type": "code",
   "execution_count": null,
   "metadata": {},
   "outputs": [],
   "source": [
    "def printifprime(n):\n",
    "    count=0\n",
    "    for i in range(1, n+1):\n",
    "        if n%i==0:\n",
    "            count=count+1\n",
    "    if count>2:\n",
    "        print(\"not prime\")\n",
    "    else:\n",
    "        print(\"prime\")\n",
    "a=int(input(\"enter a number\"))\n",
    "printifprime(a)"
   ]
  },
  {
   "cell_type": "code",
   "execution_count": null,
   "metadata": {},
   "outputs": [],
   "source": [
    "def printifprime(n):\n",
    "    for n in range(1,a,1):\n",
    "        count=0\n",
    "        for i in range(1, n+1):\n",
    "            if n%i==0:\n",
    "                count=count+1\n",
    "        if count<3:\n",
    "            print(n)\n",
    "a=int(input(\"enter a number\"))\n",
    "printifprime(a)"
   ]
  },
  {
   "cell_type": "code",
   "execution_count": null,
   "metadata": {},
   "outputs": [],
   "source": [
    "def sumoffactorial(n):\n",
    "    h=n\n",
    "    sum=0\n",
    "    while n!=0:\n",
    "        x=1\n",
    "        b=n%10\n",
    "        n=n//10\n",
    "        for i in range(1,b+1):\n",
    "            x*=i\n",
    "        sum+=x\n",
    "    if sum==h:\n",
    "        print(\"yes\")\n",
    "    else:\n",
    "        print(\"no\")\n",
    "a=int(input(\"enter a number\"))\n",
    "sumoffactorial(a)"
   ]
  },
  {
   "cell_type": "code",
   "execution_count": null,
   "metadata": {},
   "outputs": [],
   "source": [
    "#funtion to return the count of palindrome numbers\n",
    "def countpalindromes(i):\n",
    "    count=0\n",
    "    for n in range(1,i,1):\n",
    "        a=0\n",
    "        c=n\n",
    "        while n!=0:\n",
    "            b=n%10\n",
    "            n=n//10\n",
    "            a=(a*10)+b\n",
    "        if c==a:\n",
    "            count+=1\n",
    "    print(count)\n",
    "u=int(input(\"enter a number\")\n",
    "countpalindromes(u)"
   ]
  },
  {
   "cell_type": "code",
   "execution_count": null,
   "metadata": {},
   "outputs": [],
   "source": [
    "def countfactors(n):\n",
    "    for i in range(1,n+1,1):\n",
    "        b=1\n",
    "        sum=0\n",
    "        while b<i:\n",
    "            if b%i==0:\n",
    "                sum+=b\n",
    "        if sum==i:\n",
    "            print(i)\n",
    "f=int(input(\"enter a number\"))\n",
    "countfactors(f)         "
   ]
  },
  {
   "cell_type": "code",
   "execution_count": null,
   "metadata": {},
   "outputs": [],
   "source": [
    "a = \"python\"\n",
    "a[0]\n",
    "    "
   ]
  },
  {
   "cell_type": "code",
   "execution_count": null,
   "metadata": {},
   "outputs": [],
   "source": [
    "a[1:5]"
   ]
  },
  {
   "cell_type": "code",
   "execution_count": null,
   "metadata": {},
   "outputs": [],
   "source": [
    "a[1:6:2]"
   ]
  },
  {
   "cell_type": "code",
   "execution_count": null,
   "metadata": {},
   "outputs": [],
   "source": [
    "a[::2]"
   ]
  },
  {
   "cell_type": "code",
   "execution_count": null,
   "metadata": {},
   "outputs": [],
   "source": [
    "a[-1]"
   ]
  },
  {
   "cell_type": "code",
   "execution_count": null,
   "metadata": {},
   "outputs": [],
   "source": [
    "a[-1::-1]"
   ]
  },
  {
   "cell_type": "code",
   "execution_count": null,
   "metadata": {},
   "outputs": [],
   "source": [
    "a=input(\"enter a charecter\")\n",
    "if a[-1::-1]==a:\n",
    "    print(\"given string is a palandrome\")"
   ]
  },
  {
   "cell_type": "code",
   "execution_count": null,
   "metadata": {},
   "outputs": [],
   "source": [
    "def printupper(x):\n",
    "    for i in range(len(x)):\n",
    "        if ord(x[i]) >=65 and ord(x[i]) <= 90:\n",
    "            print(x[i],end=\" \")\n",
    "    return\n",
    "printupper(\"PyThon\")\n",
    "        "
   ]
  },
  {
   "cell_type": "code",
   "execution_count": null,
   "metadata": {},
   "outputs": [],
   "source": [
    "ord('A')"
   ]
  },
  {
   "cell_type": "code",
   "execution_count": null,
   "metadata": {},
   "outputs": [],
   "source": [
    "#FUNCTION TO PRINT \"PYTHON\" IF THE COUNT OF UPPER CASE AND LOWER CASE ARE SAME\n",
    "#IF THE CHARECTER COUNT IS NOT SAME \n",
    "#PRINT \"PROGRAMMING\" IF NOT SAME\n",
    "#EXAMPLE : PYTHON -- 3 P T O (Upper case)\n",
    "#                    3 y h n(lower case)\n",
    "#Python -- P H\n",
    "#       --y t o n (4) -Programming\n",
    "\n",
    "def findcount(str):\n",
    "    cntupper=0\n",
    "    cntlower=0\n",
    "    for x in range(len(str)):\n",
    "        if ord(str[x]) >=65 and ord(str[x]) <=90:\n",
    "            cntupper = cntupper + 1\n",
    "        elif ord(str[x]) >= 97 and ord(str[x]) <= 122:\n",
    "            cntlower = cntlower+1\n",
    "    if cntupper==cntlower:\n",
    "        return \"samecount\"\n",
    "    else:\n",
    "        return\"programming\"\n",
    "    return\n",
    "print(findcount('PyThOn'))\n",
    "print(findcount('PYTHon'))"
   ]
  },
  {
   "cell_type": "code",
   "execution_count": null,
   "metadata": {},
   "outputs": [],
   "source": [
    "#extract digits from given string\n",
    "#Example:\n",
    "#Input : Application\n",
    "#Output : 1 8 8 9\n",
    "def extradigits(str):\n",
    "    for x in range(len(str)):\n",
    "        if ord(str[x]) >= 48 and ord(str[x]) <= 57:\n",
    "            print(str[x],end=\" \")\n",
    "    return \n",
    "extradigits(\"applicati6on98\")"
   ]
  },
  {
   "cell_type": "code",
   "execution_count": null,
   "metadata": {},
   "outputs": [],
   "source": [
    "def extradigits(str):\n",
    "    sum=0\n",
    "    for x in range(len(str)):\n",
    "        if ord(str[x]) >= 48 and ord(str[x]) <= 57:\n",
    "            sum=ord(str[x])-48+sum\n",
    "    print(sum)\n",
    "    return\n",
    "extradigits(\"applicati6on98\")"
   ]
  },
  {
   "cell_type": "code",
   "execution_count": null,
   "metadata": {},
   "outputs": [],
   "source": [
    "def evendigits(str):\n",
    "    sum=0\n",
    "    for x in range(len(str)):\n",
    "        if ord(str[x]) >= 48 and ord(str[x]) <= 57:\n",
    "            if ord(str[x])%2==0:\n",
    "                sum=ord(str[x])-48+sum\n",
    "    print(sum)\n",
    "    return\n",
    "evendigits(\"applicati6on98\")"
   ]
  },
  {
   "cell_type": "code",
   "execution_count": 3,
   "metadata": {},
   "outputs": [],
   "source": [
    "#function to print a specific word in Upper case\n",
    "\n",
    "\n",
    "\n",
    "def worduppercase(s):\n",
    "    spacecnt=0\n",
    "    for x in range (len(s)):\n",
    "        if s[x]==32:\n",
    "            spacecnt+=1\n",
    "        if spacecnt==1:\n",
    "            if s[x]>=65 and s[x] <= 90:\n",
    "                print(s[x], end=\" \" )\n",
    "            elif ord(s[x]) >= 97 and ord(s[x]) <= 122:\n",
    "                print(chr(ord(s[x])-32,end=\" \"))\n",
    "        if spacecnt ==2:\n",
    "            break\n",
    "    return\n",
    "worduppercase('Python Made Easy')"
   ]
  },
  {
   "cell_type": "code",
   "execution_count": null,
   "metadata": {},
   "outputs": [],
   "source": []
  }
 ],
 "metadata": {
  "kernelspec": {
   "display_name": "Python 3",
   "language": "python",
   "name": "python3"
  },
  "language_info": {
   "codemirror_mode": {
    "name": "ipython",
    "version": 3
   },
   "file_extension": ".py",
   "mimetype": "text/x-python",
   "name": "python",
   "nbconvert_exporter": "python",
   "pygments_lexer": "ipython3",
   "version": "3.7.3"
  }
 },
 "nbformat": 4,
 "nbformat_minor": 2
}
